{
 "cells": [
  {
   "cell_type": "code",
   "execution_count": 10,
   "metadata": {},
   "outputs": [],
   "source": [
    "# Import necessary packages\n",
    "import sys\n",
    "\n",
    "import pandas as pd\n",
    "import numpy as np\n",
    "\n",
    "from priority_dict import priority_dict\n",
    "from pptree import print_tree"
   ]
  },
  {
   "cell_type": "code",
   "execution_count": 3,
   "metadata": {},
   "outputs": [],
   "source": [
    "def read_file(file_name):\n",
    "    \"\"\"\n",
    "    Creates an adjacency matrix from the csv file\n",
    "    \"\"\"\n",
    "    df = pd.read_csv(file_name, header=None)\n",
    "    \n",
    "    # Dictionary to store cities' indices\n",
    "    vertices_id = {}\n",
    "    cnt = 0\n",
    "    \n",
    "    # Iterate all rows and assign an unique id to each city\n",
    "    for _, row in df.iterrows():   \n",
    "        for city in [row[0], row[1]]:\n",
    "            if city not in vertices_id:\n",
    "                vertices_id[city] = cnt\n",
    "                cnt += 1\n",
    "    num_cities = len(vertices_id)\n",
    "    \n",
    "    # Create an adjacency matrix of shape (num_vertices, num_vertices)\n",
    "    adj_matrix = np.zeros((num_cities, num_cities))\n",
    "    # Iterate the rows again to build the adj matrix\n",
    "    for _, row in df.iterrows():\n",
    "        idx_1 = vertices_id[row[0]]\n",
    "        idx_2 = vertices_id[row[1]]\n",
    "        # Add the connection to adjacency matrix (both directions)\n",
    "        adj_matrix[idx_1][idx_2] = row[2]\n",
    "        adj_matrix[idx_2][idx_1] = row[2]\n",
    "        \n",
    "    return adj_matrix, vertices_id"
   ]
  },
  {
   "cell_type": "code",
   "execution_count": 4,
   "metadata": {},
   "outputs": [],
   "source": [
    "class Graph:\n",
    "    def __init__(self, adj_matrix):\n",
    "        self.adj_matrix = adj_matrix\n",
    "        \n",
    "class Tree:\n",
    "    def __init__(self, val, parent=None):\n",
    "        self.val = val\n",
    "        self.children = []\n",
    "        self.set_parent(parent)\n",
    "            \n",
    "    def set_parent(self, parent):\n",
    "        self.parent = parent\n",
    "        if parent:\n",
    "            self.parent.children.append(self)\n",
    "    \n",
    "    def __str__(self):\n",
    "        return self.val"
   ]
  },
  {
   "cell_type": "code",
   "execution_count": 5,
   "metadata": {},
   "outputs": [],
   "source": [
    "def degree(G, v):\n",
    "        \"\"\"\n",
    "        Returns the degree of a given vertex\n",
    "        \"\"\"\n",
    "        return len(self.neighbors(v))\n",
    "    \n",
    "def neighbors(G, v):\n",
    "        \"\"\"\n",
    "        Returns indices of v's neighbors\n",
    "        \"\"\"\n",
    "        row = G.adj_matrix[v]\n",
    "        return np.where(row != 0)[0]\n",
    "\n",
    "def dfs_helper(G, current, parent):\n",
    "        # Scan through the neighbors of the current vertex\n",
    "        for neighbor in neighbors(G, current):\n",
    "            # Check if it is already visited or not\n",
    "            if neighbor not in parent:\n",
    "                # We visit this vertex from \"current\", so mark it as the parent \n",
    "                parent[neighbor] = current\n",
    "                # Recur!\n",
    "                dfs_helper(G, neighbor, parent)\n",
    "        \n",
    "def dfs(G, start):\n",
    "    \"\"\"\n",
    "    Perform DFS from the given starting vertex\n",
    "    \"\"\"\n",
    "    # Store parent information\n",
    "    parent = {start: None}\n",
    "\n",
    "    # Call the recursive helper function, real work starts here\n",
    "    dfs_helper(G, start, parent)\n",
    "    return parent \n",
    "\n",
    "def components(G):\n",
    "    \"\"\"\n",
    "    Returns the list of connected components in the graph\n",
    "    \"\"\"\n",
    "    big_parent = {}\n",
    "    component_list = []\n",
    "\n",
    "    # Perform DFS on every vertices, one completion of a DFS corresponds to one connnected component\n",
    "    for v in range(G.adj_matrix.shape[0]):\n",
    "        if v not in big_parent:\n",
    "            parent = dfs(G, v)\n",
    "            component_list.append(parent)\n",
    "            big_parent.update(parent)\n",
    "\n",
    "    return component_list\n",
    "\n",
    "def path(G, u, v):\n",
    "        \"\"\"\n",
    "        Returns the path between two vertices if it exists\n",
    "        \"\"\"\n",
    "        # Perform DFS from u\n",
    "        parent = dfs(G, u)\n",
    "        \n",
    "        # If a path from u to v exists, backtrack the path from vertex 2 using information stored in parent\n",
    "        if v in parent:\n",
    "            current = v\n",
    "            p = []\n",
    "            while (current is not None):\n",
    "                p.append(current)\n",
    "                current = parent[current]\n",
    "            p.reverse()\n",
    "            return p\n",
    "        else:\n",
    "            return None"
   ]
  },
  {
   "cell_type": "code",
   "execution_count": 22,
   "metadata": {},
   "outputs": [],
   "source": [
    "def grow_edge(G, current, parent, T):\n",
    "    global id_2_name\n",
    "    for v in neighbors(G, current):\n",
    "        if v not in parent:\n",
    "            parent[v] = current\n",
    "            new_subtree = Tree(id_2_name[v], T)\n",
    "            grow_edge(G, v, parent, new_subtree)\n",
    "\n",
    "def spanning_tree(G, start):\n",
    "    \"\"\"\n",
    "    Returns a spanning tree rooted at start, using DFS\n",
    "    \"\"\"\n",
    "    global id_2_name\n",
    "    T = Tree(id_2_name[start])\n",
    "    parent = {start: None}\n",
    "    grow_edge(G, start, parent, T)\n",
    "    \n",
    "    return T\n",
    "\n",
    "def prim(G):\n",
    "    global id_2_name\n",
    "    \n",
    "    V = list(range(G.adj_matrix.shape[0]))\n",
    "    \n",
    "    parent = {0: None}\n",
    "    C = priority_dict()\n",
    "    for v in V:\n",
    "        C[v] = sys.maxsize\n",
    "    C[0] = 0\n",
    "    \n",
    "    while len(C) != 0:\n",
    "        v = C.pop_smallest()\n",
    "        for w in neighbors(G, v):\n",
    "            if (w in C) and (C[w] > G.adj_matrix[v][w]):\n",
    "                C[w] = G.adj_matrix[v][w]\n",
    "                parent[w] = v\n",
    "    \n",
    "    tree_nodes = {}\n",
    "    for v in V:\n",
    "        tree_nodes[v] = Tree(id_2_name[v])\n",
    "        \n",
    "    for v in parent:\n",
    "        if parent[v] is not None:\n",
    "            tree_nodes[v].set_parent(tree_nodes[parent[v]])\n",
    "    return tree_nodes[0]"
   ]
  },
  {
   "cell_type": "code",
   "execution_count": 23,
   "metadata": {},
   "outputs": [],
   "source": [
    "def preorder(T):\n",
    "    print(T.val)\n",
    "    for child in T.children:\n",
    "        preorder(child)"
   ]
  },
  {
   "cell_type": "code",
   "execution_count": 27,
   "metadata": {},
   "outputs": [],
   "source": [
    "adj_matrix, name_2_id = read_file(\"small_graph.csv\")\n",
    "id_2_name = {v: k for k, v in name_2_id.items()}\n",
    "G = Graph(adj_matrix)"
   ]
  },
  {
   "cell_type": "code",
   "execution_count": 28,
   "metadata": {},
   "outputs": [
    {
     "name": "stdout",
     "output_type": "stream",
     "text": [
      " A┐\n",
      "  └E┐\n",
      "    └D┐\n",
      "      └B┐\n",
      "        └C┐\n",
      "          └F\n"
     ]
    }
   ],
   "source": [
    "mst = prim(G)\n",
    "print_tree(mst)"
   ]
  },
  {
   "cell_type": "code",
   "execution_count": 21,
   "metadata": {},
   "outputs": [
    {
     "data": {
      "text/plain": [
       "[<__main__.Tree at 0x7f8856d6c128>, <__main__.Tree at 0x7f8856d6c198>]"
      ]
     },
     "execution_count": 21,
     "metadata": {},
     "output_type": "execute_result"
    }
   ],
   "source": [
    "mst.children"
   ]
  },
  {
   "cell_type": "code",
   "execution_count": null,
   "metadata": {},
   "outputs": [],
   "source": []
  }
 ],
 "metadata": {
  "kernelspec": {
   "display_name": "Python [conda env:graph]",
   "language": "python",
   "name": "conda-env-graph-py"
  },
  "language_info": {
   "codemirror_mode": {
    "name": "ipython",
    "version": 3
   },
   "file_extension": ".py",
   "mimetype": "text/x-python",
   "name": "python",
   "nbconvert_exporter": "python",
   "pygments_lexer": "ipython3",
   "version": "3.7.2"
  }
 },
 "nbformat": 4,
 "nbformat_minor": 2
}
