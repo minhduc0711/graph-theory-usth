{
 "cells": [
  {
   "cell_type": "code",
   "execution_count": 3,
   "metadata": {},
   "outputs": [],
   "source": [
    "# Import necessary packages\n",
    "import pandas as pd\n",
    "import numpy as np\n",
    "\n",
    "import sys"
   ]
  },
  {
   "cell_type": "code",
   "execution_count": 4,
   "metadata": {},
   "outputs": [],
   "source": [
    "def read_file(file_name):\n",
    "    \"\"\"\n",
    "    Creates an adjacency matrix from the csv file\n",
    "    \"\"\"\n",
    "    df = pd.read_csv(file_name)\n",
    "    \n",
    "    # Dictionary to store cities' indices\n",
    "    vertices_id = {}\n",
    "    cnt = 0\n",
    "    \n",
    "    # Iterate all rows and assign an unique id to each city\n",
    "    for _, row in df.iterrows():   \n",
    "        for city in [row[0], row[1]]:\n",
    "            if city not in vertices_id:\n",
    "                vertices_id[city] = cnt\n",
    "                cnt += 1\n",
    "    num_cities = len(vertices_id)\n",
    "    \n",
    "    # Create an adjacency matrix of shape (num_vertices, num_vertices)\n",
    "    adj_matrix = np.zeros((num_cities, num_cities))\n",
    "    # Iterate the rows again to build the adj matrix\n",
    "    for _, row in df.iterrows():\n",
    "        idx_1 = vertices_id[row[0]]\n",
    "        idx_2 = vertices_id[row[1]]\n",
    "        # Add the connection to adjacency matrix (both directions)\n",
    "        adj_matrix[idx_1][idx_2] = row[2]\n",
    "        adj_matrix[idx_2][idx_1] = row[2]\n",
    "        \n",
    "    return adj_matrix, vertices_id"
   ]
  },
  {
   "cell_type": "code",
   "execution_count": 8,
   "metadata": {},
   "outputs": [],
   "source": [
    "class Graph:\n",
    "    def __init__(self, adj_matrix, vertices_id):\n",
    "        self.adj_matrix = adj_matrix\n",
    "        self.vertices_id = vertices_id\n",
    "        self.id_vertices = {v: k for k, v in vertices_id.items()}\n",
    "        \n",
    "    def neighbors(self, v):\n",
    "        \"\"\"\n",
    "        Returns indices of v's neighbors\n",
    "        \"\"\"\n",
    "        row = adj_matrix[v]\n",
    "        return np.where(row != 0)[0]\n",
    "        \n",
    "    def dfs_helper(self, current, visited_list, parent):\n",
    "        # Scan through the neighbors of the current vertex\n",
    "        for neighbor in self.neighbors(current):\n",
    "            # If it is not visited, visit it\n",
    "            if neighbor not in visited_list:\n",
    "                # Mark this vertex as visited\n",
    "                visited_list.append(neighbor)\n",
    "                # We visit this vertex from \"current\", so mark it as the parent \n",
    "                parent[neighbor] = current\n",
    "                # Recur!\n",
    "                self.dfs_helper(neighbor, visited_list, parent)\n",
    "        \n",
    "    def dfs(self, start):\n",
    "        \"\"\"\n",
    "        Perform DFS from the given starting vertex\n",
    "        \"\"\"\n",
    "        # Store parent information\n",
    "        parent = {start: None}\n",
    "        # Keep track of already visited vertices\n",
    "        visited_list = [start]\n",
    "        \n",
    "        # Call the recursive helper function, real work starts here\n",
    "        self.dfs_helper(start, visited_list, parent)\n",
    "        return visited_list, parent\n",
    "        \n",
    "    def degree(self, vertex_name):\n",
    "        \"\"\"\n",
    "        Returns the degree of a given vertex\n",
    "        \"\"\"\n",
    "        id = self.vertices_id[vertex_name]\n",
    "        return len(self.neighbors(id))\n",
    "    \n",
    "    def components(self):\n",
    "        \"\"\"\n",
    "        Returns the number of connected components in the graph\n",
    "        \"\"\"\n",
    "        big_visited_list = []\n",
    "        component_count = 0\n",
    "        \n",
    "        # Perform DFS on every vertices, one completion of a DFS corresponds to one connnected component\n",
    "        for i in range(self.adj_matrix.shape[0]):\n",
    "            if i not in big_visited_list:\n",
    "                visited_list, _ = self.dfs(i)\n",
    "                big_visited_list.extend(visited_list)\n",
    "                component_count += 1\n",
    "        return component_count\n",
    "    \n",
    "    def path(self, vertex_name_1, vertex_name_2):\n",
    "        \"\"\"\n",
    "        Returns the path between two vertices if it exists\n",
    "        \"\"\"\n",
    "        vert_idx_1 = self.vertices_id[vertex_name_1]\n",
    "        vert_idx_2 = self.vertices_id[vertex_name_2]\n",
    "        # Perform DFS from vertex 1 to see if there's a path to vertex 2\n",
    "        visited_list, parent = self.dfs(vert_idx_1)\n",
    "        \n",
    "        # If it exists, backtrack the path from vertex 2 using information stored in parent\n",
    "        if vert_idx_2 in visited_list:\n",
    "            current = vert_idx_2\n",
    "            p = []\n",
    "            while (current is not None):\n",
    "                p.append(current)\n",
    "                current = parent[current]\n",
    "            p.reverse()\n",
    "            return [self.id_vertices[id] for id in p] \n",
    "        else:\n",
    "            return None\n",
    "\n",
    "\n",
    "adj_matrix, vertices_id = read_file(\"cities.csv\")\n",
    "cities_graph = Graph(adj_matrix, vertices_id)"
   ]
  },
  {
   "cell_type": "code",
   "execution_count": 9,
   "metadata": {},
   "outputs": [
    {
     "data": {
      "text/plain": [
       "5"
      ]
     },
     "execution_count": 9,
     "metadata": {},
     "output_type": "execute_result"
    }
   ],
   "source": [
    "cities_graph.degree(\"Ha Noi\")"
   ]
  },
  {
   "cell_type": "code",
   "execution_count": 10,
   "metadata": {},
   "outputs": [
    {
     "data": {
      "text/plain": [
       "17"
      ]
     },
     "execution_count": 10,
     "metadata": {},
     "output_type": "execute_result"
    }
   ],
   "source": [
    "cities_graph.components()"
   ]
  },
  {
   "cell_type": "code",
   "execution_count": 8,
   "metadata": {},
   "outputs": [
    {
     "data": {
      "text/plain": [
       "['Ha Noi',\n",
       " 'Vinh',\n",
       " 'Dong Hoi',\n",
       " 'Hue',\n",
       " 'Da Nang',\n",
       " 'Hoi An',\n",
       " 'Phuoc Son',\n",
       " 'Kontum',\n",
       " 'Buon Ma Thuot',\n",
       " 'Ho Chi Minh City',\n",
       " 'Can Tho']"
      ]
     },
     "execution_count": 8,
     "metadata": {},
     "output_type": "execute_result"
    }
   ],
   "source": [
    "cities_graph.path(\"Ha Noi\", \"Can Tho\")"
   ]
  }
 ],
 "metadata": {
  "kernelspec": {
   "display_name": "Python [conda env:graph]",
   "language": "python",
   "name": "conda-env-graph-py"
  },
  "language_info": {
   "codemirror_mode": {
    "name": "ipython",
    "version": 3
   },
   "file_extension": ".py",
   "mimetype": "text/x-python",
   "name": "python",
   "nbconvert_exporter": "python",
   "pygments_lexer": "ipython3",
   "version": "3.7.2"
  }
 },
 "nbformat": 4,
 "nbformat_minor": 2
}
