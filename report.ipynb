{
 "cells": [
  {
   "cell_type": "markdown",
   "metadata": {},
   "source": [
    "# Report for practical sessions of USTH Graph Theory course\n",
    "## Group members:\n",
    "* **Pham Minh Duc** USTHBI7-040\n",
    "* **Nguyen Duc Khai** USTHBI7-085\n",
    "* **Do Duy Huy Hoang** USTHBI7-071\n",
    "* **Luu Gia An** USTHBI7-003\n",
    "* **Lai Khang Duy** USTHBI7-051"
   ]
  },
  {
   "cell_type": "code",
   "execution_count": 1,
   "metadata": {},
   "outputs": [],
   "source": [
    "# Enable auto-reloading modules\n",
    "%reload_ext autoreload\n",
    "%autoreload 2"
   ]
  },
  {
   "cell_type": "code",
   "execution_count": 2,
   "metadata": {},
   "outputs": [],
   "source": [
    "# Import necessary packages\n",
    "from graph import *\n",
    "from tree import *\n",
    "from pptree import print_tree"
   ]
  },
  {
   "cell_type": "markdown",
   "metadata": {},
   "source": [
    "## 1. Overview\n",
    "* Our code is organized in two files:\n",
    "    * `graph.py`: definition of the class Graph along with graph-related functions\n",
    "    * `tree.py`: definition of the class Tree along with tree traversal functions\n",
    "    \n",
    "* Implemented functions:\n",
    "    1. `degree`\n",
    "    2. `neighbors`\n",
    "    3. `components`\n",
    "    4. `path`\n",
    "    5. `spanning_tree`\n",
    "    6. `prim`\n",
    "    7. `kruskal`\n",
    "    8. `dijkstra`\n",
    "    9. `shortest_path`\n",
    "    10. `preorder`\n",
    "    11. `postorder`\n",
    "\n",
    "* We also borrowed some code online:\n",
    "    * `priority_dict.py`: an implementation of priority queues, which is used for Prim, Kruskal and Dijkstra\n",
    "    * `unionfind.py`: an implementation of disjoint sets, which is used for Kruskal"
   ]
  },
  {
   "cell_type": "markdown",
   "metadata": {},
   "source": [
    "## 2. Examples\n",
    "* Graphs are represented using an adjacency matrices\n",
    "* We used the provided graph of Vietnamese cities. There are 71 vertices, each is assigned with a numeric unique ID"
   ]
  },
  {
   "cell_type": "code",
   "execution_count": 3,
   "metadata": {},
   "outputs": [
    {
     "name": "stdout",
     "output_type": "stream",
     "text": [
      "{'Ho Chi Minh City': 0, 'Ha Noi': 1, 'Da Nang': 2, 'Hai Phong': 3, 'Bien Hoa': 4, 'Hue': 5, 'Nha Trang': 6, 'Can Tho': 7, 'Rach Gia': 8, 'Quy Nhon': 9, 'Vung Tau': 10, 'Nam Dinh': 11, 'Phan Thiet': 12, 'Long Xuyen': 13, 'Ha Long': 14, 'Buon Ma Thuot': 15, 'Cam Ranh': 16, 'Cam Pha Mines': 17, 'Thai Nguyen': 18, 'Da Lat': 19, 'My Tho': 20, 'Soc Trang': 21, 'Pleiku': 22, 'Thanh Hoa': 23, 'Ca Mau': 24, 'Bac Lieu': 25, 'Yen Vinh': 26, 'Hoa Binh': 27, 'Vinh Long': 28, 'Yen Bai': 29, 'Viet Tri': 30, 'Phan Rang-Thap Cham': 31, 'Chau Doc': 32, 'Tuy Hoa': 33, 'Tan An': 34, 'Uong Bi': 35, 'Sa Dec': 36, 'Ben Tre': 37, 'Tam Ky': 38, 'Hai Duong': 39, 'Tra Vinh': 40, 'Bim Son': 41, 'Bac Giang': 42, 'Thai Binh': 43, 'Ha Dong': 44, 'Phu Khuong': 45, 'Kon Tum': 46, 'Bac Ninh': 47, 'Cao Bang': 48, 'Son Tay': 49, 'Tay Ninh': 50, 'Cu Chi': 51, 'Moc Bai': 52, 'Mui Ne': 53, 'Kontum': 54, 'Phuoc Son': 55, 'Hoi An': 56, 'Qui Nhon': 57, 'Quang Ngai': 58, 'My Lai': 59, 'Dong Hoi': 60, 'Vinh': 61, 'Ninh Binh': 62, 'Mai Chau': 63, 'Ha Long City': 64, 'Sapa': 65, 'Son La': 66, 'Dien Bien Phu': 67, 'Muong Lay': 68, 'Lao Cai': 69, 'Bac Ha': 70}\n"
     ]
    }
   ],
   "source": [
    "G = Graph(\"graphs/vn.csv\")\n",
    "print(G.vert_name_2_id)"
   ]
  },
  {
   "cell_type": "markdown",
   "metadata": {},
   "source": [
    "### `degree(G, v)`: returns the degree of v in G"
   ]
  },
  {
   "cell_type": "code",
   "execution_count": 4,
   "metadata": {},
   "outputs": [
    {
     "name": "stdout",
     "output_type": "stream",
     "text": [
      "10\n"
     ]
    }
   ],
   "source": [
    "hcmc_id = G.vert_name_2_id['Ho Chi Minh City']\n",
    "hp_id = G.vert_name_2_id['Hai Phong']\n",
    "print(degree(G, hcmc_id))"
   ]
  },
  {
   "cell_type": "markdown",
   "metadata": {},
   "source": [
    "### `neighbors(G, v)`: returns the list of neighbors of v in graph G"
   ]
  },
  {
   "cell_type": "code",
   "execution_count": 5,
   "metadata": {},
   "outputs": [
    {
     "name": "stdout",
     "output_type": "stream",
     "text": [
      "['Ha Noi', 'Can Tho', 'Buon Ma Thuot', 'Da Lat', 'My Tho', 'Vinh Long', 'Chau Doc', 'Tay Ninh', 'Cu Chi', 'Mui Ne']\n"
     ]
    }
   ],
   "source": [
    "print([G.vert_id_2_name[u] for u in neighbors(G, hcmc_id)])"
   ]
  },
  {
   "cell_type": "markdown",
   "metadata": {},
   "source": [
    "### `components(G)`: returns the list of connected components in G. Uses DFS to locate components\n",
    "The graph of Vietnamese cities is connected, so it has only 1 component"
   ]
  },
  {
   "cell_type": "code",
   "execution_count": 6,
   "metadata": {},
   "outputs": [
    {
     "name": "stdout",
     "output_type": "stream",
     "text": [
      "[{0: None, 1: 0, 27: 1, 26: 27, 30: 1, 31: 30, 47: 30, 43: 47, 42: 43, 46: 47, 48: 47, 49: 48, 61: 1, 11: 61, 10: 11, 16: 11, 17: 16, 60: 61, 5: 60, 2: 5, 3: 2, 56: 2, 55: 56, 54: 55, 15: 54, 14: 15, 23: 14, 22: 23, 62: 14, 63: 62, 66: 63, 67: 66, 68: 67, 65: 68, 69: 65, 70: 69, 57: 56, 6: 57, 7: 6, 8: 7, 9: 8, 28: 7, 24: 28, 25: 24, 29: 28, 32: 7, 33: 32, 40: 32, 41: 40, 19: 6, 18: 19, 35: 18, 34: 35, 53: 19, 58: 19, 59: 58, 39: 6, 37: 39, 36: 37, 38: 39, 4: 5, 12: 4, 13: 12, 44: 5, 45: 44, 64: 1, 20: 0, 21: 20, 50: 0, 51: 50, 52: 50}]\n",
      "\n",
      "\n",
      "Number of components: 1\n"
     ]
    }
   ],
   "source": [
    "component_list = components(G)\n",
    "print(component_list)\n",
    "print(\"\\n\")\n",
    "print(\"Number of components:\", len(component_list))"
   ]
  },
  {
   "cell_type": "markdown",
   "metadata": {},
   "source": [
    "### `path(G, u, v)`: returns the path between u and v if it exists. Also uses DFS"
   ]
  },
  {
   "cell_type": "code",
   "execution_count": 7,
   "metadata": {},
   "outputs": [
    {
     "name": "stdout",
     "output_type": "stream",
     "text": [
      "['Ho Chi Minh City', 'Ha Noi', 'Vinh', 'Dong Hoi', 'Hue', 'Da Nang', 'Hai Phong']\n"
     ]
    }
   ],
   "source": [
    "print([G.vert_id_2_name[u] for u in path(G, hcmc_id, hp_id)])"
   ]
  },
  {
   "cell_type": "markdown",
   "metadata": {},
   "source": [
    "### `spanning_tree(G, v)`: returns an arbitrary spanning tree rooted at v, using DFS"
   ]
  },
  {
   "cell_type": "code",
   "execution_count": 8,
   "metadata": {},
   "outputs": [
    {
     "name": "stdout",
     "output_type": "stream",
     "text": [
      "                 ┌My Tho┐\n",
      "                 │      └Soc Trang\n",
      "                 │        ┌Cu Chi\n",
      "                 ├Tay Ninh┤\n",
      "                 │        └Moc Bai\n",
      " Ho Chi Minh City┤\n",
      "                 │      ┌Ha Long City\n",
      "                 │      ├Hoa Binh┐\n",
      "                 │      │        └Yen Vinh\n",
      "                 │      │        ┌Phan Rang-Thap Cham\n",
      "                 │      ├Viet Tri┤\n",
      "                 │      │        │        ┌Kon Tum\n",
      "                 │      │        └Bac Ninh┤\n",
      "                 │      │                 ├Cao Bang┐\n",
      "                 │      │                 │        └Son Tay\n",
      "                 │      │                 └Thai Binh┐\n",
      "                 │      │                           └Bac Giang\n",
      "                 └Ha Noi┤\n",
      "                        │             ┌Vung Tau\n",
      "                        │    ┌Nam Dinh┤\n",
      "                        │    │        └Cam Ranh┐\n",
      "                        │    │                 └Cam Pha Mines\n",
      "                        └Vinh┤\n",
      "                             └Dong Hoi┐\n",
      "                                      │   ┌Ha Dong┐\n",
      "                                      │   │       └Phu Khuong\n",
      "                                      │   ├Bien Hoa┐\n",
      "                                      │   │        └Phan Thiet┐\n",
      "                                      │   │                   └Long Xuyen\n",
      "                                      └Hue┤\n",
      "                                          │       ┌Hai Phong\n",
      "                                          └Da Nang┤\n",
      "                                                  │      ┌Phuoc Son┐\n",
      "                                                  │      │         └Kontum┐\n",
      "                                                  │      │                └Buon Ma Thuot┐\n",
      "                                                  │      │                              │       ┌Thanh Hoa┐\n",
      "                                                  │      │                              │       │         └Pleiku\n",
      "                                                  │      │                              └Ha Long┤\n",
      "                                                  │      │                                      └Ninh Binh┐\n",
      "                                                  │      │                                                └Mai Chau┐\n",
      "                                                  │      │                                                         └Son La┐\n",
      "                                                  │      │                                                                └Dien Bien Phu┐\n",
      "                                                  │      │                                                                              └Muong Lay┐\n",
      "                                                  │      │                                                                                        └Sapa┐\n",
      "                                                  │      │                                                                                             └Lao Cai┐\n",
      "                                                  │      │                                                                                                     └Bac Ha\n",
      "                                                  └Hoi An┤\n",
      "                                                         └Qui Nhon┐\n",
      "                                                                  │                   ┌Tam Ky\n",
      "                                                                  │         ┌Hai Duong┤\n",
      "                                                                  │         │         └Ben Tre┐\n",
      "                                                                  │         │                 └Sa Dec\n",
      "                                                                  │         │      ┌Mui Ne\n",
      "                                                                  │         │      ├Quang Ngai┐\n",
      "                                                                  │         │      │          └My Lai\n",
      "                                                                  │         ├Da Lat┤\n",
      "                                                                  │         │      └Thai Nguyen┐\n",
      "                                                                  │         │                  └Uong Bi┐\n",
      "                                                                  │         │                          └Tan An\n",
      "                                                                  └Nha Trang┤\n",
      "                                                                            │       ┌Rach Gia┐\n",
      "                                                                            │       │        └Quy Nhon\n",
      "                                                                            └Can Tho┤\n",
      "                                                                                    │        ┌Tuy Hoa\n",
      "                                                                                    ├Chau Doc┤\n",
      "                                                                                    │        └Tra Vinh┐\n",
      "                                                                                    │                 └Bim Son\n",
      "                                                                                    │         ┌Yen Bai\n",
      "                                                                                    └Vinh Long┤\n",
      "                                                                                              └Ca Mau┐\n",
      "                                                                                                     └Bac Lieu\n",
      "\n",
      "Preorder traversal of st: Ho Chi Minh City; Ha Noi; Hoa Binh; Yen Vinh; Viet Tri; Phan Rang-Thap Cham; Bac Ninh; Thai Binh; Bac Giang; Kon Tum; Cao Bang; Son Tay; Vinh; Nam Dinh; Vung Tau; Cam Ranh; Cam Pha Mines; Dong Hoi; Hue; Da Nang; Hai Phong; Hoi An; Phuoc Son; Kontum; Buon Ma Thuot; Ha Long; Thanh Hoa; Pleiku; Ninh Binh; Mai Chau; Son La; Dien Bien Phu; Muong Lay; Sapa; Lao Cai; Bac Ha; Qui Nhon; Nha Trang; Can Tho; Rach Gia; Quy Nhon; Vinh Long; Ca Mau; Bac Lieu; Yen Bai; Chau Doc; Tuy Hoa; Tra Vinh; Bim Son; Da Lat; Thai Nguyen; Uong Bi; Tan An; Mui Ne; Quang Ngai; My Lai; Hai Duong; Ben Tre; Sa Dec; Tam Ky; Bien Hoa; Phan Thiet; Long Xuyen; Ha Dong; Phu Khuong; Ha Long City; My Tho; Soc Trang; Tay Ninh; Cu Chi; Moc Bai; "
     ]
    }
   ],
   "source": [
    "st = spanning_tree(G, hcmc_id)\n",
    "print_tree(st)\n",
    "print()\n",
    "print(\"Preorder traversal of st: \", end=\"\")\n",
    "preorder(st)"
   ]
  },
  {
   "cell_type": "markdown",
   "metadata": {},
   "source": [
    "### `prim(G)`: returns a minimum spanning tree using Prim's algorithm"
   ]
  },
  {
   "cell_type": "code",
   "execution_count": 9,
   "metadata": {},
   "outputs": [
    {
     "name": "stdout",
     "output_type": "stream",
     "text": [
      "                 ┌My Tho┐\n",
      "                 │      └Soc Trang\n",
      "                 ├Cu Chi┐\n",
      "                 │      └Tay Ninh┐\n",
      "                 │               └Moc Bai\n",
      "                 │         ┌Yen Bai\n",
      "                 │         ├Ca Mau┐\n",
      "                 │         │      └Bac Lieu\n",
      "                 ├Vinh Long┤\n",
      "                 │         │       ┌Rach Gia┐\n",
      "                 │         │       │        └Quy Nhon\n",
      "                 │         └Can Tho┤\n",
      "                 │                 │        ┌Tuy Hoa\n",
      "                 │                 └Chau Doc┤\n",
      "                 │                          └Tra Vinh┐\n",
      "                 │                                   └Bim Son\n",
      " Ho Chi Minh City┤\n",
      "                 └Mui Ne┐\n",
      "                        │      ┌Quang Ngai┐\n",
      "                        │      │          └My Lai\n",
      "                        │      ├Thai Nguyen┐\n",
      "                        │      │           └Uong Bi┐\n",
      "                        │      │                   └Tan An\n",
      "                        └Da Lat┤\n",
      "                               │                   ┌Tam Ky\n",
      "                               │         ┌Hai Duong┤\n",
      "                               │         │         └Ben Tre┐\n",
      "                               │         │                 └Sa Dec\n",
      "                               └Nha Trang┤\n",
      "                                         └Qui Nhon┐\n",
      "                                                  │      ┌Phuoc Son┐\n",
      "                                                  │      │         └Kontum┐\n",
      "                                                  │      │                └Buon Ma Thuot\n",
      "                                                  └Hoi An┤\n",
      "                                                         │       ┌Hai Phong\n",
      "                                                         └Da Nang┤\n",
      "                                                                 │   ┌Ha Dong┐\n",
      "                                                                 │   │       └Phu Khuong\n",
      "                                                                 │   ├Bien Hoa┐\n",
      "                                                                 │   │        └Phan Thiet┐\n",
      "                                                                 │   │                   └Long Xuyen\n",
      "                                                                 └Hue┤\n",
      "                                                                     └Dong Hoi┐\n",
      "                                                                              │             ┌Vung Tau\n",
      "                                                                              │    ┌Nam Dinh┤\n",
      "                                                                              │    │        └Cam Ranh┐\n",
      "                                                                              │    │                 └Cam Pha Mines\n",
      "                                                                              └Vinh┤\n",
      "                                                                                   │      ┌Ha Long City\n",
      "                                                                                   │      ├Hoa Binh┐\n",
      "                                                                                   │      │        └Yen Vinh\n",
      "                                                                                   │      ├Ninh Binh┐\n",
      "                                                                                   │      │         └Ha Long┐\n",
      "                                                                                   │      │                 └Thanh Hoa┐\n",
      "                                                                                   │      │                           └Pleiku\n",
      "                                                                                   └Ha Noi┤\n",
      "                                                                                          │        ┌Phan Rang-Thap Cham\n",
      "                                                                                          ├Viet Tri┤\n",
      "                                                                                          │        │        ┌Kon Tum\n",
      "                                                                                          │        └Bac Ninh┤\n",
      "                                                                                          │                 ├Cao Bang┐\n",
      "                                                                                          │                 │        └Son Tay\n",
      "                                                                                          │                 └Thai Binh┐\n",
      "                                                                                          │                           └Bac Giang\n",
      "                                                                                          └Mai Chau┐\n",
      "                                                                                                   └Son La┐\n",
      "                                                                                                          └Dien Bien Phu┐\n",
      "                                                                                                                        └Muong Lay┐\n",
      "                                                                                                                                  └Sapa┐\n",
      "                                                                                                                                       └Lao Cai┐\n",
      "                                                                                                                                               └Bac Ha\n",
      "\n",
      "Postorder traversal of prim_mst: Soc Trang; My Tho; Tuy Hoa; Bim Son; Tra Vinh; Chau Doc; Quy Nhon; Rach Gia; Can Tho; Bac Lieu; Ca Mau; Yen Bai; Vinh Long; Moc Bai; Tay Ninh; Cu Chi; Sa Dec; Ben Tre; Tam Ky; Hai Duong; Hai Phong; Long Xuyen; Phan Thiet; Bien Hoa; Phu Khuong; Ha Dong; Yen Vinh; Hoa Binh; Phan Rang-Thap Cham; Bac Giang; Thai Binh; Kon Tum; Son Tay; Cao Bang; Bac Ninh; Viet Tri; Pleiku; Thanh Hoa; Ha Long; Ninh Binh; Bac Ha; Lao Cai; Sapa; Muong Lay; Dien Bien Phu; Son La; Mai Chau; Ha Long City; Ha Noi; Vung Tau; Cam Pha Mines; Cam Ranh; Nam Dinh; Vinh; Dong Hoi; Hue; Da Nang; Buon Ma Thuot; Kontum; Phuoc Son; Hoi An; Qui Nhon; Nha Trang; Tan An; Uong Bi; Thai Nguyen; My Lai; Quang Ngai; Da Lat; Mui Ne; Ho Chi Minh City; \n",
      "\n",
      "Total weight:  27813.13\n"
     ]
    }
   ],
   "source": [
    "prim_mst, w = prim(G)\n",
    "print_tree(prim_mst)\n",
    "print()\n",
    "print(\"Postorder traversal of prim_mst: \", end=\"\")\n",
    "postorder(prim_mst)\n",
    "print(\"\\n\")\n",
    "print(\"Total weight: \", w)"
   ]
  },
  {
   "cell_type": "markdown",
   "metadata": {},
   "source": [
    "### `kruskal(G)`: returns a minimum spanning tree using Kruskal's algorithm\n",
    "Because it is hard to keep track of the tree's hierachical information when implementing Kruskal, the function only return **the edges belonging to the tree** instead of the actual Tree object"
   ]
  },
  {
   "cell_type": "code",
   "execution_count": 10,
   "metadata": {},
   "outputs": [
    {
     "name": "stdout",
     "output_type": "stream",
     "text": [
      "Edge list:  [('Quang Ngai', 'My Lai'), ('Da Nang', 'Hoi An'), ('Sapa', 'Lao Cai'), ('Can Tho', 'Vinh Long'), ('Ho Chi Minh City', 'Cu Chi'), ('Tay Ninh', 'Cu Chi'), ('Tay Ninh', 'Moc Bai'), ('Ca Mau', 'Bac Lieu'), ('Sa Dec', 'Ben Tre'), ('Can Tho', 'Rach Gia'), ('Can Tho', 'Chau Doc'), ('Viet Tri', 'Bac Ninh'), ('Ha Noi', 'Hoa Binh'), ('Bac Giang', 'Thai Binh'), ('My Tho', 'Soc Trang'), ('Ho Chi Minh City', 'My Tho'), ('Ha Noi', 'Ninh Binh'), ('Lao Cai', 'Bac Ha'), ('Dien Bien Phu', 'Muong Lay'), ('Da Nang', 'Hue'), ('Thai Binh', 'Bac Ninh'), ('Thai Nguyen', 'Uong Bi'), ('Ha Noi', 'Ha Long City'), ('Phuoc Son', 'Hoi An'), ('Bien Hoa', 'Phan Thiet'), ('Ho Chi Minh City', 'Vinh Long'), ('Da Lat', 'Mui Ne'), ('Ca Mau', 'Vinh Long'), ('Cao Bang', 'Son Tay'), ('Hue', 'Dong Hoi'), ('Mai Chau', 'Son La'), ('Ha Noi', 'Mai Chau'), ('Dong Hoi', 'Vinh'), ('Sapa', 'Muong Lay'), ('Son La', 'Dien Bien Phu'), ('Chau Doc', 'Tra Vinh'), ('Ho Chi Minh City', 'Mui Ne'), ('Kontum', 'Phuoc Son'), ('Nam Dinh', 'Vinh'), ('Nha Trang', 'Da Lat'), ('Yen Vinh', 'Hoa Binh'), ('Nha Trang', 'Qui Nhon'), ('Buon Ma Thuot', 'Kontum'), ('Ha Long', 'Thanh Hoa'), ('Hoi An', 'Qui Nhon'), ('Phan Thiet', 'Long Xuyen'), ('Ha Long', 'Ninh Binh'), ('Ha Noi', 'Vinh'), ('Bac Ninh', 'Cao Bang'), ('Chau Doc', 'Tuy Hoa'), ('Da Lat', 'Quang Ngai'), ('Da Nang', 'Hai Phong'), ('Rach Gia', 'Quy Nhon'), ('Bien Hoa', 'Hue'), ('Tam Ky', 'Hai Duong'), ('Pleiku', 'Thanh Hoa'), ('Hue', 'Ha Dong'), ('Kon Tum', 'Bac Ninh'), ('Ha Noi', 'Viet Tri'), ('Cam Ranh', 'Cam Pha Mines'), ('Ha Dong', 'Phu Khuong'), ('Thai Nguyen', 'Da Lat'), ('Vung Tau', 'Nam Dinh'), ('Tra Vinh', 'Bim Son'), ('Viet Tri', 'Phan Rang-Thap Cham'), ('Tan An', 'Uong Bi'), ('Nam Dinh', 'Cam Ranh'), ('Vinh Long', 'Yen Bai'), ('Nha Trang', 'Hai Duong'), ('Ben Tre', 'Hai Duong')]\n",
      "\n",
      "\n",
      "Total weight:  27813.13\n"
     ]
    }
   ],
   "source": [
    "mst_edges, total_weight = kruskal(G)\n",
    "print(\"Edge list: \", [(G.vert_id_2_name[u], G.vert_id_2_name[v]) for (u, v) in mst_edges])\n",
    "print(\"\\n\")\n",
    "print(\"Total weight: \", total_weight)"
   ]
  },
  {
   "cell_type": "markdown",
   "metadata": {},
   "source": [
    "### `dijkstra(G, s)`: returns the shortest distances and the shortest path tree from s to all other nodes"
   ]
  },
  {
   "cell_type": "code",
   "execution_count": 11,
   "metadata": {},
   "outputs": [
    {
     "name": "stdout",
     "output_type": "stream",
     "text": [
      "Shortest distances: {0: 0, 51: 50.0, 20: 95.0, 50: 100.0, 52: 155.0, 28: 180.0, 21: 187.38, 53: 220.0, 7: 225.0, 8: 315.0, 32: 315.0, 15: 336.0, 19: 340.0, 24: 360.0, 25: 424.18, 6: 480.0, 40: 520.0, 54: 586.0, 57: 730.0, 55: 806.0, 33: 841.65, 58: 886.0, 59: 898.0, 9: 929.53, 56: 966.0, 2: 1001.0, 5: 1131.0, 1: 1146.72, 27: 1238.32, 62: 1246.72, 14: 1262.9, 64: 1306.72, 60: 1321.0, 63: 1346.72, 18: 1448.3, 29: 1458.52, 61: 1476.72, 26: 1479.47, 23: 1532.9, 66: 1536.72, 65: 1546.72, 3: 1557.5700000000002, 69: 1584.72, 35: 1591.3, 41: 1649.03, 70: 1684.72, 11: 1709.72, 67: 1736.72, 68: 1746.72, 4: 1750.2, 39: 1787.0, 44: 1821.0, 12: 1929.2, 30: 2146.7200000000003, 22: 2221.87, 13: 2228.7200000000003, 47: 2237.32, 43: 2374.32, 38: 2426.04, 42: 2466.1800000000003, 48: 2606.32, 34: 2759.45, 49: 2792.88, 10: 2833.17, 45: 2899.0, 16: 2979.7200000000003, 46: 3024.63, 31: 3293.38, 37: 3402.0, 36: 3469.88, 17: 4013.7400000000002}\n",
      "\n",
      "\n",
      "Shortest path tree: {0: None, 1: 0, 7: 28, 15: 0, 19: 0, 20: 0, 28: 0, 32: 7, 50: 0, 51: 0, 53: 0, 21: 20, 52: 50, 24: 28, 29: 28, 6: 53, 8: 7, 9: 8, 33: 32, 40: 32, 14: 15, 54: 15, 18: 19, 58: 19, 25: 24, 39: 6, 57: 6, 41: 40, 55: 54, 56: 55, 59: 58, 2: 56, 3: 2, 5: 2, 4: 5, 44: 5, 60: 5, 27: 1, 30: 1, 61: 1, 62: 1, 63: 1, 64: 1, 65: 1, 26: 27, 23: 14, 66: 63, 35: 18, 11: 61, 22: 23, 67: 66, 68: 65, 69: 65, 70: 69, 34: 35, 10: 11, 16: 11, 12: 4, 37: 39, 38: 39, 45: 44, 13: 12, 31: 30, 47: 30, 43: 47, 46: 47, 48: 47, 42: 43, 49: 48, 17: 16, 36: 37}\n"
     ]
    }
   ],
   "source": [
    "D, parent = dijkstra(G, hcmc_id)\n",
    "print(\"Shortest distances:\", D)\n",
    "print(\"\\n\")\n",
    "print(\"Shortest path tree:\", parent)"
   ]
  },
  {
   "cell_type": "markdown",
   "metadata": {},
   "source": [
    "### `shortest_path(G, vert_name_1, vert_name_2)`: wrapper function of `dijkstra`, returns the shortest path between two vertices and its length. Accept vertices' names as arguments for convenience"
   ]
  },
  {
   "cell_type": "code",
   "execution_count": 12,
   "metadata": {},
   "outputs": [
    {
     "name": "stdout",
     "output_type": "stream",
     "text": [
      "Shortest path:  ['Ha Long', 'Ninh Binh', 'Ha Noi', 'Viet Tri', 'Bac Ninh']\n",
      "Length:  1490.6\n"
     ]
    }
   ],
   "source": [
    "p, length = shortest_path(G, \"Ha Long\", \"Bac Ninh\")\n",
    "print(\"Shortest path: \", p)\n",
    "print(\"Length: \", length)"
   ]
  }
 ],
 "metadata": {
  "kernelspec": {
   "display_name": "Python [conda env:graph]",
   "language": "python",
   "name": "conda-env-graph-py"
  },
  "language_info": {
   "codemirror_mode": {
    "name": "ipython",
    "version": 3
   },
   "file_extension": ".py",
   "mimetype": "text/x-python",
   "name": "python",
   "nbconvert_exporter": "python",
   "pygments_lexer": "ipython3",
   "version": "3.7.2"
  }
 },
 "nbformat": 4,
 "nbformat_minor": 2
}
